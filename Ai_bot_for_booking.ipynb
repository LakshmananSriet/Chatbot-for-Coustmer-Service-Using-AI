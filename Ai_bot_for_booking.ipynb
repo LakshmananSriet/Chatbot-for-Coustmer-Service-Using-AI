{
 "cells": [
  {
   "cell_type": "code",
   "execution_count": null,
   "id": "a76de174-7c9d-4076-9316-a5a5c23e1610",
   "metadata": {},
   "outputs": [],
   "source": []
  }
 ],
 "metadata": {
  "kernelspec": {
   "display_name": "Python 3 (ipykernel)",
   "language": "python",
   "name": "python3"
  },
  "language_info": {
   "codemirror_mode": {
    "name": "ipython",
    "version": 3
   },
   "file_extension": ".py",
   "mimetype": "text/x-python",
   "name": "python",
   "nbconvert_exporter": "python",
   "pygments_lexer": "ipython3",
   "version": "3.11.7"
  }
 },
 "nbformat": 4,
 "nbformat_minor": 5
}
